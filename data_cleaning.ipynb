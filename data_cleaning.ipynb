{
  "nbformat": 4,
  "nbformat_minor": 0,
  "metadata": {
    "colab": {
      "name": "data_cleaning.ipynb",
      "provenance": [],
      "collapsed_sections": [],
      "authorship_tag": "ABX9TyPU2hdNXUtw5Us3fxfZPS/p",
      "include_colab_link": true
    },
    "kernelspec": {
      "name": "python3",
      "display_name": "Python 3"
    }
  },
  "cells": [
    {
      "cell_type": "markdown",
      "metadata": {
        "id": "view-in-github",
        "colab_type": "text"
      },
      "source": [
        "<a href=\"https://colab.research.google.com/github/visualeditorNL/data_cleaning_course/blob/master/data_cleaning.ipynb\" target=\"_parent\"><img src=\"https://colab.research.google.com/assets/colab-badge.svg\" alt=\"Open In Colab\"/></a>"
      ]
    },
    {
      "cell_type": "markdown",
      "metadata": {
        "id": "25hyz_CoGbjD",
        "colab_type": "text"
      },
      "source": [
        "***Data opruimen*** <br>\n",
        "Er wordt tegenwoordig heel heel veel data verzameld. Door mensen, maar vooral door sensoren. <br>\n",
        "Mensen maken fouten en deze moeten we eruit halen. Ze maken een typefout, of coderen iets verkeerd waardoor data verkeerd opgeslagen wordt. Dit moeten wel verbeteren. Maar ook bij sensoren gaat er wel eens iets fout. Bij de sensor of tijdens het versturen. <br>\n",
        "Als je gaat werken met de data zul je dus bijna altijd de data moeten 'schoonmaken'. Je zal moeten uitzoeken waarom data mist en je afvragen of dat een probleem is. Maar het kan ook zijn dat er 'rare' data te zien is. Waardes die ineens heel hoog of heel laag zijn. Dan moet je gaan uitzoeken en bedenken of dit inderdaad een foute meting is of wat je echt iets bijzonders hebt ontdekt. <br>\n",
        "**Data inlezen**<br>\n",
        "De meeste data wordt tegenwoordig in csv of json weggeschreven. Dit zijn kleine tekstfiles die een bepaalde opmaak hebben. We werken nu met csv (comma seperated values) files. "
      ]
    },
    {
      "cell_type": "code",
      "metadata": {
        "id": "h1GVPri6eLIl",
        "colab_type": "code",
        "colab": {
          "base_uri": "https://localhost:8080/",
          "height": 204
        },
        "outputId": "52c17efd-a91c-4a07-a7ac-8039d270a90b"
      },
      "source": [
        "import pandas as pd\n",
        "\n",
        "df = pd.read_csv(\"grafana_data_export.csv\", sep=\";\")\n",
        "\n",
        "df.head()\n"
      ],
      "execution_count": 25,
      "outputs": [
        {
          "output_type": "execute_result",
          "data": {
            "text/html": [
              "<div>\n",
              "<style scoped>\n",
              "    .dataframe tbody tr th:only-of-type {\n",
              "        vertical-align: middle;\n",
              "    }\n",
              "\n",
              "    .dataframe tbody tr th {\n",
              "        vertical-align: top;\n",
              "    }\n",
              "\n",
              "    .dataframe thead th {\n",
              "        text-align: right;\n",
              "    }\n",
              "</style>\n",
              "<table border=\"1\" class=\"dataframe\">\n",
              "  <thead>\n",
              "    <tr style=\"text-align: right;\">\n",
              "      <th></th>\n",
              "      <th>Series</th>\n",
              "      <th>Time</th>\n",
              "      <th>Value</th>\n",
              "    </tr>\n",
              "  </thead>\n",
              "  <tbody>\n",
              "    <tr>\n",
              "      <th>0</th>\n",
              "      <td>AstroPlantExplorer.AppleLokaal.mean</td>\n",
              "      <td>2020-01-27T15:00:00+01:00</td>\n",
              "      <td>NaN</td>\n",
              "    </tr>\n",
              "    <tr>\n",
              "      <th>1</th>\n",
              "      <td>AstroPlantExplorer.AppleLokaal.mean</td>\n",
              "      <td>2020-01-27T15:10:00+01:00</td>\n",
              "      <td>NaN</td>\n",
              "    </tr>\n",
              "    <tr>\n",
              "      <th>2</th>\n",
              "      <td>AstroPlantExplorer.AppleLokaal.mean</td>\n",
              "      <td>2020-01-27T15:20:00+01:00</td>\n",
              "      <td>NaN</td>\n",
              "    </tr>\n",
              "    <tr>\n",
              "      <th>3</th>\n",
              "      <td>AstroPlantExplorer.AppleLokaal.mean</td>\n",
              "      <td>2020-01-27T15:30:00+01:00</td>\n",
              "      <td>NaN</td>\n",
              "    </tr>\n",
              "    <tr>\n",
              "      <th>4</th>\n",
              "      <td>AstroPlantExplorer.AppleLokaal.mean</td>\n",
              "      <td>2020-01-27T15:40:00+01:00</td>\n",
              "      <td>NaN</td>\n",
              "    </tr>\n",
              "  </tbody>\n",
              "</table>\n",
              "</div>"
            ],
            "text/plain": [
              "                                Series                       Time  Value\n",
              "0  AstroPlantExplorer.AppleLokaal.mean  2020-01-27T15:00:00+01:00    NaN\n",
              "1  AstroPlantExplorer.AppleLokaal.mean  2020-01-27T15:10:00+01:00    NaN\n",
              "2  AstroPlantExplorer.AppleLokaal.mean  2020-01-27T15:20:00+01:00    NaN\n",
              "3  AstroPlantExplorer.AppleLokaal.mean  2020-01-27T15:30:00+01:00    NaN\n",
              "4  AstroPlantExplorer.AppleLokaal.mean  2020-01-27T15:40:00+01:00    NaN"
            ]
          },
          "metadata": {
            "tags": []
          },
          "execution_count": 25
        }
      ]
    },
    {
      "cell_type": "code",
      "metadata": {
        "id": "4rOr9RJJfUvY",
        "colab_type": "code",
        "colab": {}
      },
      "source": [
        "df.tail()"
      ],
      "execution_count": 0,
      "outputs": []
    },
    {
      "cell_type": "code",
      "metadata": {
        "id": "HXh3NdCJfdFo",
        "colab_type": "code",
        "colab": {
          "base_uri": "https://localhost:8080/",
          "height": 34
        },
        "outputId": "12fb8eac-14cc-4133-bb3f-8ecffd6789f4"
      },
      "source": [
        "df.columns"
      ],
      "execution_count": 10,
      "outputs": [
        {
          "output_type": "execute_result",
          "data": {
            "text/plain": [
              "Index(['Series', 'Time', 'Value'], dtype='object')"
            ]
          },
          "metadata": {
            "tags": []
          },
          "execution_count": 10
        }
      ]
    },
    {
      "cell_type": "code",
      "metadata": {
        "id": "trU3ddScffNk",
        "colab_type": "code",
        "colab": {}
      },
      "source": [
        "df.shape"
      ],
      "execution_count": 0,
      "outputs": []
    },
    {
      "cell_type": "code",
      "metadata": {
        "id": "2HvBw3--fhxA",
        "colab_type": "code",
        "colab": {}
      },
      "source": [
        "df.info()"
      ],
      "execution_count": 0,
      "outputs": []
    },
    {
      "cell_type": "code",
      "metadata": {
        "id": "f78dajH3fkz-",
        "colab_type": "code",
        "colab": {}
      },
      "source": [
        "\n",
        "#welke waarden categoriale var\n",
        "df.Series.value_counts(dropna=True)"
      ],
      "execution_count": 0,
      "outputs": []
    },
    {
      "cell_type": "code",
      "metadata": {
        "id": "TVdKKYLTfoaE",
        "colab_type": "code",
        "colab": {}
      },
      "source": [
        "\n",
        "#gemiddelde, sd, max, min \n",
        "df.describe()"
      ],
      "execution_count": 0,
      "outputs": []
    },
    {
      "cell_type": "code",
      "metadata": {
        "id": "yRywHkSqrJBb",
        "colab_type": "code",
        "colab": {}
      },
      "source": [
        "# om data te visualiseren hebben we de matplotlib.pyplot library nodig\n",
        "import matplotlib.pyplot as plt\n",
        "\n",
        "# Het is een goede gewoonte om eerst de data weer even te onderzoeken\n",
        "print(df['Value'].describe())\n",
        "\n",
        "# En dan plotten we een histogram\n",
        "df['Value'].plot(kind='hist')\n",
        "\n",
        "# Deze moet je ook nog laten zien\n",
        "plt.show()"
      ],
      "execution_count": 0,
      "outputs": []
    },
    {
      "cell_type": "code",
      "metadata": {
        "id": "vvQ17Y8TsWKJ",
        "colab_type": "code",
        "colab": {}
      },
      "source": [
        "# Een boxplot is ook een mooie grafiek om even naar je data te kijken\n",
        "df.boxplot(column='Value', by='Series', rot=90)\n",
        "\n",
        "# En weer de plot laten zien\n",
        "plt.show()"
      ],
      "execution_count": 0,
      "outputs": []
    },
    {
      "cell_type": "code",
      "metadata": {
        "id": "HXEH6e6dzaV9",
        "colab_type": "code",
        "colab": {}
      },
      "source": [
        "#Met twee numerieke kolommen maak je een scatterplot (deze hebben we (nog) niet in dit dataframe)\n",
        "\n",
        "#df.plot(kind=\"scatter\", x=\"Time\", y=\"Value\", rot=70)\n",
        "#plt.show()"
      ],
      "execution_count": 0,
      "outputs": []
    },
    {
      "cell_type": "code",
      "metadata": {
        "id": "i_6DnLXN7dsz",
        "colab_type": "code",
        "colab": {
          "base_uri": "https://localhost:8080/",
          "height": 289
        },
        "outputId": "7e3eb3e4-b11c-43ac-ed55-98359fc73d27"
      },
      "source": [
        "#gooi de rijen zonder waarde (NaN) weg en check of het gelukt is\n",
        "df_subset = df.dropna()\n",
        "df_subset.info()\n",
        "df.info()\n"
      ],
      "execution_count": 31,
      "outputs": [
        {
          "output_type": "stream",
          "text": [
            "<class 'pandas.core.frame.DataFrame'>\n",
            "Int64Index: 1780 entries, 293 to 6053\n",
            "Data columns (total 3 columns):\n",
            "Series    1780 non-null object\n",
            "Time      1780 non-null object\n",
            "Value     1780 non-null float64\n",
            "dtypes: float64(1), object(2)\n",
            "memory usage: 55.6+ KB\n",
            "<class 'pandas.core.frame.DataFrame'>\n",
            "RangeIndex: 6054 entries, 0 to 6053\n",
            "Data columns (total 3 columns):\n",
            "Series    6054 non-null object\n",
            "Time      6054 non-null object\n",
            "Value     1780 non-null float64\n",
            "dtypes: float64(1), object(2)\n",
            "memory usage: 142.0+ KB\n"
          ],
          "name": "stdout"
        }
      ]
    }
  ]
}