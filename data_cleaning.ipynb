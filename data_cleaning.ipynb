{
  "nbformat": 4,
  "nbformat_minor": 0,
  "metadata": {
    "colab": {
      "name": "data_cleaning.ipynb",
      "provenance": [],
      "collapsed_sections": [],
      "authorship_tag": "ABX9TyNnnMhNM//V1JNYLCN15I66",
      "include_colab_link": true
    },
    "kernelspec": {
      "name": "python3",
      "display_name": "Python 3"
    }
  },
  "cells": [
    {
      "cell_type": "markdown",
      "metadata": {
        "id": "view-in-github",
        "colab_type": "text"
      },
      "source": [
        "<a href=\"https://colab.research.google.com/github/visualeditorNL/data_cleaning_course/blob/master/data_cleaning.ipynb\" target=\"_parent\"><img src=\"https://colab.research.google.com/assets/colab-badge.svg\" alt=\"Open In Colab\"/></a>"
      ]
    },
    {
      "cell_type": "markdown",
      "metadata": {
        "id": "25hyz_CoGbjD",
        "colab_type": "text"
      },
      "source": [
        "***Data opruimen*** <br>\n",
        "Er wordt tegenwoordig heel heel veel data verzameld. Door mensen, maar vooral door sensoren. <br>\n",
        "Mensen maken fouten en deze moeten we eruit halen. Ze maken een typefout, of coderen iets verkeerd waardoor data verkeerd opgeslagen wordt. Dit moeten wel verbeteren. Maar ook bij sensoren gaat er wel eens iets fout. Bij de sensor of tijdens het versturen. <br>\n",
        "Als je gaat werken met de data zul je dus bijna altijd de data moeten 'schoonmaken'. Je zal moeten uitzoeken waarom data mist en je afvragen of dat een probleem is. Maar het kan ook zijn dat er 'rare' data te zien is. Waardes die ineens heel hoog of heel laag zijn. Dan moet je gaan uitzoeken en bedenken of dit inderdaad een foute meting is of wat je echt iets bijzonders hebt ontdekt. <br>\n",
        "**Data inlezen**<br>\n",
        "De meeste data wordt tegenwoordig in csv of json weggeschreven. Dit zijn kleine tekstfiles die een bepaalde opmaak hebben. We werken nu met csv (comma seperated values) files. "
      ]
    },
    {
      "cell_type": "code",
      "metadata": {
        "id": "h1GVPri6eLIl",
        "colab_type": "code",
        "colab": {}
      },
      "source": [
        "import pandas as pd\n",
        "\n",
        "df = pd.read_csv(\"grafana_data_export.csv\", sep=\";\")\n",
        "\n",
        "df.head()\n"
      ],
      "execution_count": 0,
      "outputs": []
    },
    {
      "cell_type": "code",
      "metadata": {
        "id": "4rOr9RJJfUvY",
        "colab_type": "code",
        "colab": {}
      },
      "source": [
        "df.tail()"
      ],
      "execution_count": 0,
      "outputs": []
    },
    {
      "cell_type": "code",
      "metadata": {
        "id": "HXh3NdCJfdFo",
        "colab_type": "code",
        "colab": {}
      },
      "source": [
        "df.columns"
      ],
      "execution_count": 0,
      "outputs": []
    },
    {
      "cell_type": "code",
      "metadata": {
        "id": "trU3ddScffNk",
        "colab_type": "code",
        "colab": {}
      },
      "source": [
        "df.shape"
      ],
      "execution_count": 0,
      "outputs": []
    },
    {
      "cell_type": "code",
      "metadata": {
        "id": "2HvBw3--fhxA",
        "colab_type": "code",
        "colab": {}
      },
      "source": [
        "df.info()"
      ],
      "execution_count": 0,
      "outputs": []
    },
    {
      "cell_type": "code",
      "metadata": {
        "id": "f78dajH3fkz-",
        "colab_type": "code",
        "colab": {}
      },
      "source": [
        "\n",
        "#welke waarden categoriale var\n",
        "df.Series.value_counts(dropna=True)"
      ],
      "execution_count": 0,
      "outputs": []
    },
    {
      "cell_type": "code",
      "metadata": {
        "id": "TVdKKYLTfoaE",
        "colab_type": "code",
        "colab": {}
      },
      "source": [
        "\n",
        "#gemiddelde, sd, max, min \n",
        "df.describe()"
      ],
      "execution_count": 0,
      "outputs": []
    }
  ]
}