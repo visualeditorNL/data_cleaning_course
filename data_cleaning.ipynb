{
  "nbformat": 4,
  "nbformat_minor": 0,
  "metadata": {
    "colab": {
      "name": "data_cleaning.ipynb",
      "provenance": [],
      "collapsed_sections": [],
      "authorship_tag": "ABX9TyPG8SQAZjELdbqdK9egsRRa",
      "include_colab_link": true
    },
    "kernelspec": {
      "name": "python3",
      "display_name": "Python 3"
    }
  },
  "cells": [
    {
      "cell_type": "markdown",
      "metadata": {
        "id": "view-in-github",
        "colab_type": "text"
      },
      "source": [
        "<a href=\"https://colab.research.google.com/github/visualeditorNL/data_cleaning_course/blob/master/data_cleaning.ipynb\" target=\"_parent\"><img src=\"https://colab.research.google.com/assets/colab-badge.svg\" alt=\"Open In Colab\"/></a>"
      ]
    },
    {
      "cell_type": "markdown",
      "metadata": {
        "id": "25hyz_CoGbjD",
        "colab_type": "text"
      },
      "source": [
        "****Data opruimen**** <br>\n",
        "Er wordt tegenwoordig heel heel veel data verzameld. Door mensen, maar vooral door sensoren. <br>\n",
        "Mensen maken fouten en deze moeten we eruit halen. Ze maken een typefout, of coderen iets verkeerd waardoor data verkeerd opgeslagen wordt. Dit moeten wel verbeteren. Maar ook bij sensoren gaat er wel eens iets fout. Bij de sensor of tijdens het versturen. <br>\n",
        "Als je gaat werken met de data zul je dus bijna altijd de data moeten 'schoonmaken'. Je zal moeten uitzoeken waarom data mist en je afvragen of dat een probleem is. Maar het kan ook zijn dat er 'rare' data te zien is. Waardes die ineens heel hoog of heel laag zijn. Dan moet je gaan uitzoeken en bedenken of dit inderdaad een foute meting is of wat je echt iets bijzonders hebt ontdekt. <br><br>\n",
        "\n",
        "**Data inlezen**<br>\n",
        "De meeste data wordt tegenwoordig in csv of json weggeschreven. Dit zijn kleine tekstfiles die een bepaalde opmaak hebben. We werken nu met csv (comma seperated values) files.\n"
      ]
    },
    {
      "cell_type": "markdown",
      "metadata": {
        "id": "2YfmX_EeIWIl",
        "colab_type": "text"
      },
      "source": [
        "***Opdracht 1***<br>\n",
        "Importeer eerst de library pandas door in de code editor hieronder <code>import pandas as pd</code> te typen.<br>\n",
        "Vervolgens moet je je data inlezen dat doe je door je data een naam te geven en vervolgens het csv-bestand te importeren: <code> df = pd.read_csv(\"lokatieEnNaam.csv\")</code>. Door vervolgens <code>df.head()</code> te typen krijg je de eerste 5 rijen te zien van je data. Als het geen mooie tabel wordt moet je even kijken wat voor <i>seperator</i> er in de csv is gebruikt. Normaal gesproken is dit een komma (standaard-waarde), maar ook puntkomma's komen voor. Dan moet je dit aangeven op het moment dat je de csv in leest door <code>df = pd.read_csv(\"lokatieEnNaam.csv\", sep = \";\")</code> in te voeren bij de eerdere regel."
      ]
    },
    {
      "cell_type": "code",
      "metadata": {
        "id": "h1GVPri6eLIl",
        "colab_type": "code",
        "colab": {}
      },
      "source": [
        "# Maak hier opdracht 1\n",
        "\n"
      ],
      "execution_count": 0,
      "outputs": []
    },
    {
      "cell_type": "markdown",
      "metadata": {
        "id": "1ahxB686OMEs",
        "colab_type": "text"
      },
      "source": [
        "***Data begrijpen***<br>\n",
        "Je kan ook de laatste rijen zien door <code>df.tail()</code> of een random selectie van 10 rijen door <code>df.sample(10)</code> te typen. Met <code>df.columns</code> krijg je een lijst met kolomnamen en <code>df.shape</code> geeft je het aantal rijen en kolommen in je data (let op bij beide geen ronde haakjes, het zijn attributen van de df en geen functie). Dit is altijd goed om mee te beginnen dat je weet wat voor data je hebt. Probeer de rijen en de kolommen te begrijpen."
      ]
    },
    {
      "cell_type": "code",
      "metadata": {
        "id": "4rOr9RJJfUvY",
        "colab_type": "code",
        "colab": {}
      },
      "source": [
        "# ruimte om te oefenen\n",
        "\n"
      ],
      "execution_count": 0,
      "outputs": []
    },
    {
      "cell_type": "markdown",
      "metadata": {
        "id": "C2Trd7iXQ6bE",
        "colab_type": "text"
      },
      "source": [
        "Met <code>df.info()</code> krijg je een overzicht van je dataframe. Uit wat voor kolommen bestaat het, wat voor gegevens? Probeer dit ook in de code editor hierboven uit."
      ]
    },
    {
      "cell_type": "code",
      "metadata": {
        "id": "trU3ddScffNk",
        "colab_type": "code",
        "colab": {}
      },
      "source": [
        "\n"
      ],
      "execution_count": 0,
      "outputs": []
    },
    {
      "cell_type": "code",
      "metadata": {
        "id": "f78dajH3fkz-",
        "colab_type": "code",
        "colab": {}
      },
      "source": [
        "import pandas as pd\n",
        "\n",
        "df = pd.read_csv(\"https://raw.githubusercontent.com/visualeditorNL/data/master/grafana_data_export.csv\", sep=\";\")\n",
        "#welke waarden categoriale var\n",
        "df.Series.value_counts(dropna=True)"
      ],
      "execution_count": 0,
      "outputs": []
    },
    {
      "cell_type": "code",
      "metadata": {
        "id": "TVdKKYLTfoaE",
        "colab_type": "code",
        "colab": {}
      },
      "source": [
        "\n",
        "#gemiddelde, sd, max, min \n",
        "df.describe()"
      ],
      "execution_count": 0,
      "outputs": []
    },
    {
      "cell_type": "code",
      "metadata": {
        "id": "yRywHkSqrJBb",
        "colab_type": "code",
        "colab": {}
      },
      "source": [
        "# om data te visualiseren hebben we de matplotlib.pyplot library nodig\n",
        "import matplotlib.pyplot as plt\n",
        "\n",
        "# Het is een goede gewoonte om eerst de data weer even te onderzoeken\n",
        "print(df['Value'].describe())\n",
        "\n",
        "# En dan plotten we een histogram\n",
        "df['Value'].plot(kind='hist')\n",
        "\n",
        "# Deze moet je ook nog laten zien\n",
        "plt.show()"
      ],
      "execution_count": 0,
      "outputs": []
    },
    {
      "cell_type": "code",
      "metadata": {
        "id": "vvQ17Y8TsWKJ",
        "colab_type": "code",
        "colab": {}
      },
      "source": [
        "# Een boxplot is ook een mooie grafiek om even naar je data te kijken\n",
        "df.boxplot(column='Value', by='Series', rot=90)\n",
        "\n",
        "# En weer de plot laten zien\n",
        "plt.show()"
      ],
      "execution_count": 0,
      "outputs": []
    },
    {
      "cell_type": "code",
      "metadata": {
        "id": "HXEH6e6dzaV9",
        "colab_type": "code",
        "colab": {}
      },
      "source": [
        "#Met twee numerieke kolommen maak je een scatterplot (deze hebben we (nog) niet in dit dataframe)\n",
        "\n",
        "#df.plot(kind=\"scatter\", x=\"Time\", y=\"Value\", rot=70)\n",
        "#plt.show()"
      ],
      "execution_count": 0,
      "outputs": []
    },
    {
      "cell_type": "code",
      "metadata": {
        "id": "i_6DnLXN7dsz",
        "colab_type": "code",
        "colab": {}
      },
      "source": [
        "#gooi de rijen zonder waarde (NaN) weg en check of het gelukt is\n",
        "df_subset = df.dropna()\n",
        "df_subset = df_subset[['Time','Value']]\n",
        "df.info()\n",
        "df_subset.info()\n",
        "df_subset.loc(870)\n",
        "df_subset.plot(kind=\"scatter\", x=\"Time\", y=\"Value\", rot=70)\n",
        "plt.show()\n",
        "\n"
      ],
      "execution_count": 0,
      "outputs": []
    },
    {
      "cell_type": "code",
      "metadata": {
        "id": "af3b5JLaEO26",
        "colab_type": "code",
        "colab": {}
      },
      "source": [
        "def tijd_aanpassen(x):\n",
        "  xNew = x[:-9]\n",
        "  return xNew\n",
        "\n",
        "df['Time'] = df['Time'].apply(tijd_aanpassen)\n",
        "\n",
        "# set de tijd-kolom om in tijd \n",
        "df['Time'] = pd.to_datetime(df['Time'])"
      ],
      "execution_count": 0,
      "outputs": []
    }
  ]
}