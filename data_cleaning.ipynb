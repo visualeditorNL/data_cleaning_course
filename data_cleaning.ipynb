{
  "nbformat": 4,
  "nbformat_minor": 0,
  "metadata": {
    "colab": {
      "name": "data_cleaning.ipynb",
      "provenance": [],
      "collapsed_sections": [],
      "authorship_tag": "ABX9TyNnnMhNM//V1JNYLCN15I66",
      "include_colab_link": true
    },
    "kernelspec": {
      "name": "python3",
      "display_name": "Python 3"
    }
  },
  "cells": [
    {
      "cell_type": "markdown",
      "metadata": {
        "id": "view-in-github",
        "colab_type": "text"
      },
      "source": [
        "<a href=\"https://colab.research.google.com/github/visualeditorNL/data_cleaning_course/blob/master/data_cleaning.ipynb\" target=\"_parent\"><img src=\"https://colab.research.google.com/assets/colab-badge.svg\" alt=\"Open In Colab\"/></a>"
      ]
    },
    {
      "cell_type": "markdown",
      "metadata": {
        "id": "25hyz_CoGbjD",
        "colab_type": "text"
      },
      "source": [
        "***Data opruimen*** <br>\n",
        "Er wordt tegenwoordig heel heel veel data verzameld. Door mensen, maar vooral door sensoren. <br>\n",
        "Mensen maken fouten en deze moeten we eruit halen. Ze maken een typefout, of coderen iets verkeerd waardoor data verkeerd opgeslagen wordt. Dit moeten wel verbeteren. Maar ook bij sensoren gaat er wel eens iets fout. Bij de sensor of tijdens het versturen. <br>\n",
        "Als je gaat werken met de data zul je dus bijna altijd de data moeten 'schoonmaken'. Je zal moeten uitzoeken waarom data mist en je afvragen of dat een probleem is. Maar het kan ook zijn dat er 'rare' data te zien is. Waardes die ineens heel hoog of heel laag zijn. Dan moet je gaan uitzoeken en bedenken of dit inderdaad een foute meting is of wat je echt iets bijzonders hebt ontdekt. <br>\n",
        "**Data inlezen**<br>\n",
        "De meeste data wordt tegenwoordig in csv of json weggeschreven. Dit zijn kleine tekstfiles die een bepaalde opmaak hebben. We werken nu met csv (comma seperated values) files. "
      ]
    },
    {
      "cell_type": "code",
      "metadata": {
        "id": "h1GVPri6eLIl",
        "colab_type": "code",
        "colab": {
          "base_uri": "https://localhost:8080/",
          "height": 204
        },
        "outputId": "e7dde063-eb42-4b4e-d8d9-318611ff3cf3"
      },
      "source": [
        "import pandas as pd\n",
        "\n",
        "df = pd.read_csv(\"grafana_data_export.csv\", sep=\";\")\n",
        "\n",
        "df.head()\n"
      ],
      "execution_count": 6,
      "outputs": [
        {
          "output_type": "execute_result",
          "data": {
            "text/html": [
              "<div>\n",
              "<style scoped>\n",
              "    .dataframe tbody tr th:only-of-type {\n",
              "        vertical-align: middle;\n",
              "    }\n",
              "\n",
              "    .dataframe tbody tr th {\n",
              "        vertical-align: top;\n",
              "    }\n",
              "\n",
              "    .dataframe thead th {\n",
              "        text-align: right;\n",
              "    }\n",
              "</style>\n",
              "<table border=\"1\" class=\"dataframe\">\n",
              "  <thead>\n",
              "    <tr style=\"text-align: right;\">\n",
              "      <th></th>\n",
              "      <th>Series</th>\n",
              "      <th>Time</th>\n",
              "      <th>Value</th>\n",
              "    </tr>\n",
              "  </thead>\n",
              "  <tbody>\n",
              "    <tr>\n",
              "      <th>0</th>\n",
              "      <td>AstroPlantExplorer.AppleLokaal.mean</td>\n",
              "      <td>2020-01-27T15:00:00+01:00</td>\n",
              "      <td>NaN</td>\n",
              "    </tr>\n",
              "    <tr>\n",
              "      <th>1</th>\n",
              "      <td>AstroPlantExplorer.AppleLokaal.mean</td>\n",
              "      <td>2020-01-27T15:10:00+01:00</td>\n",
              "      <td>NaN</td>\n",
              "    </tr>\n",
              "    <tr>\n",
              "      <th>2</th>\n",
              "      <td>AstroPlantExplorer.AppleLokaal.mean</td>\n",
              "      <td>2020-01-27T15:20:00+01:00</td>\n",
              "      <td>NaN</td>\n",
              "    </tr>\n",
              "    <tr>\n",
              "      <th>3</th>\n",
              "      <td>AstroPlantExplorer.AppleLokaal.mean</td>\n",
              "      <td>2020-01-27T15:30:00+01:00</td>\n",
              "      <td>NaN</td>\n",
              "    </tr>\n",
              "    <tr>\n",
              "      <th>4</th>\n",
              "      <td>AstroPlantExplorer.AppleLokaal.mean</td>\n",
              "      <td>2020-01-27T15:40:00+01:00</td>\n",
              "      <td>NaN</td>\n",
              "    </tr>\n",
              "  </tbody>\n",
              "</table>\n",
              "</div>"
            ],
            "text/plain": [
              "                                Series                       Time  Value\n",
              "0  AstroPlantExplorer.AppleLokaal.mean  2020-01-27T15:00:00+01:00    NaN\n",
              "1  AstroPlantExplorer.AppleLokaal.mean  2020-01-27T15:10:00+01:00    NaN\n",
              "2  AstroPlantExplorer.AppleLokaal.mean  2020-01-27T15:20:00+01:00    NaN\n",
              "3  AstroPlantExplorer.AppleLokaal.mean  2020-01-27T15:30:00+01:00    NaN\n",
              "4  AstroPlantExplorer.AppleLokaal.mean  2020-01-27T15:40:00+01:00    NaN"
            ]
          },
          "metadata": {
            "tags": []
          },
          "execution_count": 6
        }
      ]
    },
    {
      "cell_type": "code",
      "metadata": {
        "id": "4rOr9RJJfUvY",
        "colab_type": "code",
        "colab": {
          "base_uri": "https://localhost:8080/",
          "height": 204
        },
        "outputId": "d16ec77f-b1c5-48ac-8c17-167a5c829b2c"
      },
      "source": [
        "df.tail()"
      ],
      "execution_count": 7,
      "outputs": [
        {
          "output_type": "execute_result",
          "data": {
            "text/html": [
              "<div>\n",
              "<style scoped>\n",
              "    .dataframe tbody tr th:only-of-type {\n",
              "        vertical-align: middle;\n",
              "    }\n",
              "\n",
              "    .dataframe tbody tr th {\n",
              "        vertical-align: top;\n",
              "    }\n",
              "\n",
              "    .dataframe thead th {\n",
              "        text-align: right;\n",
              "    }\n",
              "</style>\n",
              "<table border=\"1\" class=\"dataframe\">\n",
              "  <thead>\n",
              "    <tr style=\"text-align: right;\">\n",
              "      <th></th>\n",
              "      <th>Series</th>\n",
              "      <th>Time</th>\n",
              "      <th>Value</th>\n",
              "    </tr>\n",
              "  </thead>\n",
              "  <tbody>\n",
              "    <tr>\n",
              "      <th>6049</th>\n",
              "      <td>SMA-A429B0.mean</td>\n",
              "      <td>2020-02-03T14:20:00+01:00</td>\n",
              "      <td>23.052632</td>\n",
              "    </tr>\n",
              "    <tr>\n",
              "      <th>6050</th>\n",
              "      <td>SMA-A429B0.mean</td>\n",
              "      <td>2020-02-03T14:30:00+01:00</td>\n",
              "      <td>23.050000</td>\n",
              "    </tr>\n",
              "    <tr>\n",
              "      <th>6051</th>\n",
              "      <td>SMA-A429B0.mean</td>\n",
              "      <td>2020-02-03T14:40:00+01:00</td>\n",
              "      <td>23.000000</td>\n",
              "    </tr>\n",
              "    <tr>\n",
              "      <th>6052</th>\n",
              "      <td>SMA-A429B0.mean</td>\n",
              "      <td>2020-02-03T14:50:00+01:00</td>\n",
              "      <td>23.000000</td>\n",
              "    </tr>\n",
              "    <tr>\n",
              "      <th>6053</th>\n",
              "      <td>SMA-A429B0.mean</td>\n",
              "      <td>2020-02-03T15:00:00+01:00</td>\n",
              "      <td>23.000000</td>\n",
              "    </tr>\n",
              "  </tbody>\n",
              "</table>\n",
              "</div>"
            ],
            "text/plain": [
              "               Series                       Time      Value\n",
              "6049  SMA-A429B0.mean  2020-02-03T14:20:00+01:00  23.052632\n",
              "6050  SMA-A429B0.mean  2020-02-03T14:30:00+01:00  23.050000\n",
              "6051  SMA-A429B0.mean  2020-02-03T14:40:00+01:00  23.000000\n",
              "6052  SMA-A429B0.mean  2020-02-03T14:50:00+01:00  23.000000\n",
              "6053  SMA-A429B0.mean  2020-02-03T15:00:00+01:00  23.000000"
            ]
          },
          "metadata": {
            "tags": []
          },
          "execution_count": 7
        }
      ]
    },
    {
      "cell_type": "code",
      "metadata": {
        "id": "HXh3NdCJfdFo",
        "colab_type": "code",
        "colab": {
          "base_uri": "https://localhost:8080/",
          "height": 34
        },
        "outputId": "bb29c84a-b8d4-4f04-f498-34e6129823ed"
      },
      "source": [
        "df.columns"
      ],
      "execution_count": 8,
      "outputs": [
        {
          "output_type": "execute_result",
          "data": {
            "text/plain": [
              "Index(['Series', 'Time', 'Value'], dtype='object')"
            ]
          },
          "metadata": {
            "tags": []
          },
          "execution_count": 8
        }
      ]
    },
    {
      "cell_type": "code",
      "metadata": {
        "id": "trU3ddScffNk",
        "colab_type": "code",
        "colab": {
          "base_uri": "https://localhost:8080/",
          "height": 34
        },
        "outputId": "0b9fa969-60ad-4d05-fc70-9224d15b7fe5"
      },
      "source": [
        "df.shape"
      ],
      "execution_count": 9,
      "outputs": [
        {
          "output_type": "execute_result",
          "data": {
            "text/plain": [
              "(6054, 3)"
            ]
          },
          "metadata": {
            "tags": []
          },
          "execution_count": 9
        }
      ]
    },
    {
      "cell_type": "code",
      "metadata": {
        "id": "2HvBw3--fhxA",
        "colab_type": "code",
        "colab": {
          "base_uri": "https://localhost:8080/",
          "height": 153
        },
        "outputId": "a6cb52e7-0e6e-4cf0-baaa-11d167e11436"
      },
      "source": [
        "df.info()"
      ],
      "execution_count": 10,
      "outputs": [
        {
          "output_type": "stream",
          "text": [
            "<class 'pandas.core.frame.DataFrame'>\n",
            "RangeIndex: 6054 entries, 0 to 6053\n",
            "Data columns (total 3 columns):\n",
            "Series    6054 non-null object\n",
            "Time      6054 non-null object\n",
            "Value     1780 non-null float64\n",
            "dtypes: float64(1), object(2)\n",
            "memory usage: 142.0+ KB\n"
          ],
          "name": "stdout"
        }
      ]
    },
    {
      "cell_type": "code",
      "metadata": {
        "id": "f78dajH3fkz-",
        "colab_type": "code",
        "colab": {
          "base_uri": "https://localhost:8080/",
          "height": 136
        },
        "outputId": "108ec66c-da0e-406a-9cb3-42eac20e0e6f"
      },
      "source": [
        "\n",
        "#welke waarden categoriale var\n",
        "df.Series.value_counts(dropna=True)"
      ],
      "execution_count": 12,
      "outputs": [
        {
          "output_type": "execute_result",
          "data": {
            "text/plain": [
              "AstroPlantExplorer.yourName.mean       1009\n",
              "AstroPlantExplorer.user.mean           1009\n",
              "AstroPlantExplorer.AppleLokaal.mean    1009\n",
              "AstroPlantExplorer.Ted.mean            1009\n",
              "AstroPlantExplorer.Loet.mean           1009\n",
              "SMA-A429B0.mean                        1009\n",
              "Name: Series, dtype: int64"
            ]
          },
          "metadata": {
            "tags": []
          },
          "execution_count": 12
        }
      ]
    },
    {
      "cell_type": "code",
      "metadata": {
        "id": "TVdKKYLTfoaE",
        "colab_type": "code",
        "colab": {
          "base_uri": "https://localhost:8080/",
          "height": 297
        },
        "outputId": "66b9135d-c1b6-4b90-fd52-a8e8a6effcc1"
      },
      "source": [
        "\n",
        "#gemiddelde, sd, max, min \n",
        "df.describe()"
      ],
      "execution_count": 13,
      "outputs": [
        {
          "output_type": "execute_result",
          "data": {
            "text/html": [
              "<div>\n",
              "<style scoped>\n",
              "    .dataframe tbody tr th:only-of-type {\n",
              "        vertical-align: middle;\n",
              "    }\n",
              "\n",
              "    .dataframe tbody tr th {\n",
              "        vertical-align: top;\n",
              "    }\n",
              "\n",
              "    .dataframe thead th {\n",
              "        text-align: right;\n",
              "    }\n",
              "</style>\n",
              "<table border=\"1\" class=\"dataframe\">\n",
              "  <thead>\n",
              "    <tr style=\"text-align: right;\">\n",
              "      <th></th>\n",
              "      <th>Value</th>\n",
              "    </tr>\n",
              "  </thead>\n",
              "  <tbody>\n",
              "    <tr>\n",
              "      <th>count</th>\n",
              "      <td>1780.000000</td>\n",
              "    </tr>\n",
              "    <tr>\n",
              "      <th>mean</th>\n",
              "      <td>22.088992</td>\n",
              "    </tr>\n",
              "    <tr>\n",
              "      <th>std</th>\n",
              "      <td>1.333109</td>\n",
              "    </tr>\n",
              "    <tr>\n",
              "      <th>min</th>\n",
              "      <td>14.736842</td>\n",
              "    </tr>\n",
              "    <tr>\n",
              "      <th>25%</th>\n",
              "      <td>20.997222</td>\n",
              "    </tr>\n",
              "    <tr>\n",
              "      <th>50%</th>\n",
              "      <td>21.911111</td>\n",
              "    </tr>\n",
              "    <tr>\n",
              "      <th>75%</th>\n",
              "      <td>23.055556</td>\n",
              "    </tr>\n",
              "    <tr>\n",
              "      <th>max</th>\n",
              "      <td>29.000000</td>\n",
              "    </tr>\n",
              "  </tbody>\n",
              "</table>\n",
              "</div>"
            ],
            "text/plain": [
              "             Value\n",
              "count  1780.000000\n",
              "mean     22.088992\n",
              "std       1.333109\n",
              "min      14.736842\n",
              "25%      20.997222\n",
              "50%      21.911111\n",
              "75%      23.055556\n",
              "max      29.000000"
            ]
          },
          "metadata": {
            "tags": []
          },
          "execution_count": 13
        }
      ]
    }
  ]
}